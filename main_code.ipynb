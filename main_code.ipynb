{
 "cells": [
  {
   "cell_type": "code",
   "execution_count": 1,
   "metadata": {},
   "outputs": [],
   "source": [
    "import pandas as pd\n",
    "import numpy as np\n",
    "import matplotlib.pyplot as plt\n",
    "import lasio\n",
    "import os\n",
    "import glob\n",
    "from dtaidistance import dtw\n",
    "from dtaidistance import dtw_visualisation as dtwvis\n",
    "import seaborn as sns\n",
    "from sklearn.preprocessing import MinMaxScaler\n",
    "from fastdtw import fastdtw\n",
    "import numpy as np\n",
    "from sklearn.preprocessing import MinMaxScaler\n",
    "from geopy.distance import geodesic\n",
    "import networkx as nx\n",
    "import scipy.interpolate\n",
    "import time"
   ]
  },
  {
   "cell_type": "code",
   "execution_count": 2,
   "metadata": {},
   "outputs": [],
   "source": [
    "# directory on personal computer\n",
    "ruta = 'C:/Users/User/Desktop/Pan American Energy/reference scripts/initial'\n",
    "os.chdir(ruta)\n",
    "\n",
    "ruta_logs = ruta + \"/Perfiles_3\"\n",
    "las_files = glob.glob(os.path.join(ruta_logs, '*.las'))\n",
    "\n",
    "logs = {}\n",
    "\n",
    "# Function to calculate geodesic distance between two points\n",
    "def calculate_distance(lat1, lon1, lat2, lon2):\n",
    "    return geodesic((lat1, lon1), (lat2, lon2)).meters\n",
    "\n",
    "# Create a directed graph\n",
    "G = nx.DiGraph()\n",
    "\n",
    "# Set the separation distance between nodes\n",
    "separation_distance = 2\n",
    "\n",
    "# Reference latitude and longitude (you may want to set this based on your specific location)\n",
    "reference_latitude = 0\n",
    "reference_longitude = 0\n",
    "\n",
    "# Create nodes in a grid layout and connect nodes within 200 meters\n",
    "for i, las_file in enumerate(las_files):\n",
    "    las = lasio.read(las_file)\n",
    "    las_df = las.df().dropna()\n",
    "    las_df = las_df.reset_index()\n",
    "\n",
    "    # Calculate position in a grid layout\n",
    "    rows = int(len(las_files)**0.5)\n",
    "    cols = int(np.ceil(len(las_files) / rows))\n",
    "    x = (i % rows) * separation_distance\n",
    "    y = (i // rows) * separation_distance\n",
    "    \n",
    "    # Calculate latitude and longitude based on grid position\n",
    "    latitude = reference_latitude + y * (1 / 111000)  # Approximately, latitude degrees per meter\n",
    "    longitude = reference_longitude + x * (1 / (111000 * np.cos(np.radians(reference_latitude))))  # Approximately, longitude degrees per meter\n",
    "    \n",
    "    # Add node to the graph with the file name as the node name\n",
    "    node_name = os.path.splitext(os.path.basename(las_file))[0]\n",
    "    G.add_node(node_name, data=las_df, latitude=latitude, longitude=longitude, pos=(x, y))\n"
   ]
  },
  {
   "cell_type": "markdown",
   "metadata": {},
   "source": [
    "Create the Graph in any way. This can change"
   ]
  },
  {
   "cell_type": "code",
   "execution_count": 3,
   "metadata": {},
   "outputs": [
    {
     "data": {
      "image/png": "[encoded data removed]",
      "text/plain": [
       "<Figure size 640x480 with 1 Axes>"
      ]
     },
     "metadata": {},
     "output_type": "display_data"
    }
   ],
   "source": [
    "#%%\n",
    "# Remove all connections (edges) from the graph\n",
    "G.clear_edges()\n",
    "# Connect nodes within 200 meters\n",
    "for node_i, data_i in G.nodes(data=True):\n",
    "    for node_j, data_j in G.nodes(data=True):\n",
    "        if node_i != node_j:  # Avoid self-loops\n",
    "            distance = calculate_distance(data_i['latitude'], data_i['longitude'],\n",
    "                                          data_j['latitude'], data_j['longitude'])\n",
    "            if distance < 4: #3\n",
    "                G.add_edge(node_i, node_j)\n",
    "\n",
    "# Draw the graph\n",
    "plt.figure()\n",
    "# pos = nx.get_node_attributes(G, 'pos')\n",
    "pos = nx.spring_layout(G)\n",
    "nx.draw(G, pos, with_labels=True, node_size=700, node_color='skyblue',\n",
    "        font_size=8, font_color='black', font_weight='bold',\n",
    "        arrowsize=10, edge_color='gray', linewidths=0.5)\n",
    "\n",
    "#plt.title('Grid Layout with Connections within 200m')\n",
    "plt.show()"
   ]
  },
  {
   "cell_type": "markdown",
   "metadata": {},
   "source": [
    "Import starting node known tops data, in this case it is 1318, stored in \"tops\""
   ]
  },
  {
   "cell_type": "code",
   "execution_count": 4,
   "metadata": {},
   "outputs": [
    {
     "name": "stdout",
     "output_type": "stream",
     "text": [
      "       Pozo  Capa        Ref\n",
      "0  PVH-1318   O4T  1600.6632\n",
      "1  PVH-1318   O5T  1614.4039\n",
      "2  PVH-1318  O5aT  1624.3099\n",
      "3  PVH-1318  O5bT  1630.0619\n",
      "4  PVH-1318   O7T  1639.0092\n",
      "5  PVH-1318   O4T  1610.2498\n",
      "6  PVH-1318   O5T  1619.7299\n",
      "7  PVH-1318  O5aT  1626.8663\n",
      "8  PVH-1318  O5bT  1633.5769\n",
      "9  PVH-1318   O7T  1642.5242\n"
     ]
    }
   ],
   "source": [
    "ruta_archivo = ruta_logs +\"/Capas O PVH-1318_PVH-1499.xls\"\n",
    "\n",
    "# Leer el archivo usando pandas\n",
    "tops = pd.read_excel(ruta_archivo)\n",
    "tops=tops[tops[\"Pozo\"]==\"PVH-1318\"]\n",
    "a = tops.loc[tops[\"Pozo\"] == \"PVH-1318\", [\"Pozo\", \"Capa\", \"Tope\"]]\n",
    "a.rename(columns={\"Tope\": \"Ref\"}, inplace=True)\n",
    "\n",
    "b=tops.loc[tops[\"Pozo\"] == \"PVH-1318\", [\"Pozo\", \"Capa\", \"Base\"]]\n",
    "b.rename(columns={\"Base\": \"Ref\"}, inplace=True)\n",
    "resultado = pd.concat([a, b], ignore_index=True)\n",
    "tops=resultado\n",
    "# Mostrar las primeras filas del DataFrame para verificar la lectura\n",
    "print(tops.head(10))\n",
    "\n",
    "\n",
    "plt.show()\n",
    "\n",
    "G.nodes['PVH-1318 1'][\"tops\"]=tops"
   ]
  },
  {
   "cell_type": "markdown",
   "metadata": {},
   "source": [
    "Import 1499 node tops data, this will be used to evaluate the algorithm later, stored in \"vtops\""
   ]
  },
  {
   "cell_type": "code",
   "execution_count": 5,
   "metadata": {},
   "outputs": [
    {
     "name": "stdout",
     "output_type": "stream",
     "text": [
      "       Pozo  Capa        Ref\n",
      "0  PVH-1499   O4T  1592.4712\n",
      "1  PVH-1499   O5T  1606.4203\n",
      "2  PVH-1499  O5aT  1616.9452\n",
      "3  PVH-1499  O5bT  1622.1523\n",
      "4  PVH-1499   O7T  1629.9545\n",
      "5  PVH-1499   O4T  1601.8442\n",
      "6  PVH-1499   O5T  1611.4777\n",
      "7  PVH-1499  O5aT  1620.5903\n",
      "8  PVH-1499  O5bT  1625.8013\n",
      "9  PVH-1499   O7T  1634.1488\n"
     ]
    }
   ],
   "source": [
    "\n",
    "vtops = pd.read_excel(ruta_archivo)\n",
    "vtops=vtops[vtops[\"Pozo\"]==\"PVH-1499\"]\n",
    "a = vtops.loc[vtops[\"Pozo\"] == \"PVH-1499\", [\"Pozo\", \"Capa\", \"Tope\"]]\n",
    "a.rename(columns={\"Tope\": \"Ref\"}, inplace=True)\n",
    "\n",
    "b=vtops.loc[vtops[\"Pozo\"] == \"PVH-1499\", [\"Pozo\", \"Capa\", \"Base\"]]\n",
    "b.rename(columns={\"Base\": \"Ref\"}, inplace=True)\n",
    "resultado = pd.concat([a, b], ignore_index=True)\n",
    "vtops=resultado\n",
    "# Mostrar las primeras filas del DataFrame para verificar la lectura\n",
    "print(vtops.head(10))\n",
    "\n",
    "\n",
    "plt.show()"
   ]
  },
  {
   "cell_type": "markdown",
   "metadata": {},
   "source": [
    "Main algorithm code with some helper methods"
   ]
  },
  {
   "cell_type": "code",
   "execution_count": 6,
   "metadata": {},
   "outputs": [],
   "source": [
    "\n",
    "# helper methods\n",
    "def normalize_array(arr):\n",
    "    reshaped_arr = arr.reshape(-1, 1)\n",
    "    scaler = MinMaxScaler()\n",
    "    normalized_arr = scaler.fit_transform(reshaped_arr)\n",
    "    return normalized_arr\n",
    "\n",
    "def custom_distance(p1, p2):\n",
    "    return np.abs(p1 - p2) **(1/ 4.1)\n",
    "\n",
    "\n",
    "\n",
    "# node 1 is the curernt node\n",
    "# node 2 is the node you attempt to move to\n",
    "# function gets a dataframe with the predicted depths, assigns to \"tops\" label in node\n",
    "def calc_tops(G, node1, node2):\n",
    "    \n",
    "    correla, df1, df2 = dtw_calc(G, node1, node2)\n",
    "\n",
    "    # create a list of j values for unique i values\n",
    "    df_result = pd.DataFrame(columns=[\"Capa\",'Ref'])\n",
    "    j_values_dict = {}\n",
    "    for i, j in correla:\n",
    "        \n",
    "        if i not in j_values_dict:\n",
    "            j_values_dict[i] = []\n",
    "        j_values_dict[i].append(j)\n",
    "\n",
    "    rows_to_add = []\n",
    "    # obtaining a 1 to 1 relationship between i and j by averaging \n",
    "    for i, j_values in j_values_dict.items():\n",
    "        i_depth = df1[\"DEPTH\"].iloc[i]\n",
    "        j_depths = [df2[\"DEPTH\"].iloc[j] for j in j_values]\n",
    "        # averaging j values\n",
    "        j_depth = np.mean(j_depths)\n",
    "        #print(f'i = {i_depth}, j = {j_depth}')\n",
    "        rows_to_add.append({'Ref': j_depth})\n",
    "    capas = [\"O4T\", \"O4T\", \"O5T\", \"O5T\", \"O5aT\", \"O5aT\", \"O5bT\", \"O5bT\", \"O7T\", \"O7T\", ]\n",
    "    df_result = pd.concat([df_result, pd.DataFrame(rows_to_add)], ignore_index=True)\n",
    "    df_result[\"Capa\"] = capas\n",
    "\n",
    "    # assign new top values to the node\n",
    "    G.nodes[node2][\"tops\"]=df_result\n",
    "    print(G.nodes[node2][\"tops\"])\n",
    "\n",
    "\n",
    "def dtw_calc(G, node1, node2):\n",
    "    tolerance = 0.05\n",
    "    df1 = G.nodes[node1][\"data\"] # RES_DEEP data for node1\n",
    "    tops = G.nodes[node1][\"tops\"] # Tops data for node1\n",
    "\n",
    "    df2 = G.nodes[node2][\"data\"] # RES_DEEP data for node2\n",
    "\n",
    "\n",
    "\n",
    "    # mark rows within the tolerance range of any top\n",
    "    for index_df1, row_df1 in df1.iterrows():\n",
    "        depth_value = row_df1['DEPTH']\n",
    "        matches = tops['Ref'].apply(lambda x: np.abs(x - depth_value) <= tolerance)\n",
    "        if matches.any():\n",
    "            df1.at[index_df1, 'Present'] = 1\n",
    "\n",
    "    G.nodes[node1][\"is_top\"] = df1[df1['Present'] == 1] # store the filtered rows near the topes into the graph\n",
    "    prof1 = df1[df1['Present'] == 1][\"DEPTH\"].reset_index()[\"DEPTH\"][0] - 50\n",
    "    prof2 = df1[df1['Present'] == 1][\"DEPTH\"].reset_index()[\"DEPTH\"].iloc[-1] + 50\n",
    "    df1 = df1[(df1['DEPTH'] > prof1) & (df1['DEPTH'] < prof2)].reset_index()\n",
    "    df2 = df2[(df2['DEPTH'] > prof1) & (df2['DEPTH'] < prof2)].reset_index()\n",
    "\n",
    "\n",
    "    # normalize res deep in df1 and df2\n",
    "    w1 = np.array(df1['RES_DEEP'].dropna())\n",
    "    w2 = np.array(df2['RES_DEEP'].dropna())\n",
    "    # might need to use normalized values later, not rn tho\n",
    "    w1_normalized = normalize_array(w1)\n",
    "    w2_normalized = normalize_array(w2)\n",
    "\n",
    "\n",
    "    ref = df1[df1[\"Present\"] == 1]\n",
    "    distance, path = fastdtw(w1, w2, dist=custom_distance)\n",
    "    # distance, path = fastdtw(w1_normalized, w2_normalized, dist=custom_distance) Might need to normalize later\n",
    "    correla = [tupla for tupla in path if tupla[0] in ref.index]\n",
    "\n",
    "    #mark tops in df2, this block of code is not necessary\n",
    "    # correla2 = [tupla[1] for tupla in correla]\n",
    "    # df2[\"is_top\"] = 0\n",
    "    # for elemento in correla2:\n",
    "    #     if elemento in df2.index:\n",
    "    #         df2.loc[elemento, \"is_top\"] = 1\n",
    "    # G.nodes[node2][\"is_top\"] = df2[df2[\"is_top\"] == 1]\n",
    "    # G.nodes[node2][\"Procesados\"] = df2\n",
    "    \n",
    "    return correla, df1, df2\n",
    "\n",
    "\n",
    "def profiles_comparison(G, node1, node2):\n",
    "    correla, df1, df2 = dtw_calc(G, node1, node2)\n",
    "\n",
    "    offset = 50\n",
    "    plt.figure(figsize=(10, 6))\n",
    "\n",
    "    # Plot df1\n",
    "    plt.plot(df1[\"DEPTH\"], df1[\"RES_DEEP\"], label=node1, color='blue')\n",
    "\n",
    "    # Plot df2 with offset\n",
    "    plt.plot(df2[\"DEPTH\"], df2[\"RES_DEEP\"] + offset, label=node2, color='orange')\n",
    "\n",
    "    for i, j in correla:\n",
    "        # Plot the DTW path\n",
    "        plt.plot([df1[\"DEPTH\"].iloc[i], df2[\"DEPTH\"].iloc[j]], [df1[\"RES_DEEP\"].iloc[i], df2[\"RES_DEEP\"].iloc[j] + offset], color='red', linestyle='-')\n",
    "\n",
    "    plt.title(node2 + \" \" + node1)\n",
    "    plt.xlabel('Depth (m)')\n",
    "    plt.ylabel('Valor')\n",
    "    plt.legend()\n",
    "    plt.grid(True)\n",
    "    plt.show()\n"
   ]
  },
  {
   "cell_type": "markdown",
   "metadata": {},
   "source": [
    "Now, run the algorithm to use the known tops from 1318 to predict the tops for 1499"
   ]
  }
 ],
 "metadata": {
  "kernelspec": {
   "display_name": "base",
   "language": "python",
   "name": "python3"
  },
  "language_info": {
   "codemirror_mode": {
    "name": "ipython",
    "version": 3
   },
   "file_extension": ".py",
   "mimetype": "text/x-python",
   "name": "python",
   "nbconvert_exporter": "python",
   "pygments_lexer": "ipython3",
   "version": "3.11.3"
  }
 },
 "nbformat": 4,
 "nbformat_minor": 2
}
