{
 "cells": [
  {
   "cell_type": "code",
   "execution_count": null,
   "metadata": {},
   "outputs": [],
   "source": [
    "import numpy as np\n",
    "from graph_setup import G as newG"
   ]
  },
  {
   "cell_type": "code",
   "execution_count": null,
   "metadata": {},
   "outputs": [],
   "source": [
    "node_name1 = \"PVH-937\"\n",
    "node_name2 = \"PVH-941\"\n",
    "\n",
    "\n",
    "mark1 = newG.nodes[node_name1][\"markers\"].copy()\n",
    "mark2 = newG.nodes[node_name2][\"markers\"].copy()\n",
    "\n",
    "\n",
    "common_markers = mark1.merge(mark2, on=\"Mkr\", suffixes=('_mark1', '_mark2'))\n",
    "\n",
    "common_markers.rename(columns={\"Depth (meters)_mark1\": node_name1, \"Depth (meters)_mark2\": node_name2})\n",
    "print(common_markers)\n"
   ]
  },
  {
   "cell_type": "code",
   "execution_count": null,
   "metadata": {},
   "outputs": [],
   "source": [
    "from calc_functions import optimal_window\n",
    "mark1_n1 = 1075.1807\n",
    "mark2_n1 = 1290.3693\n",
    "\n",
    "mark1_n2 = 1073.5878\n",
    "mark2_n2 = 1290.3293\n",
    "\n",
    "m_tol = 5\n",
    "\n",
    "bounds = [(mark1_n1-m_tol, mark1_n1+m_tol), (mark2_n1-m_tol, mark2_n1+m_tol), (mark1_n2-m_tol, mark1_n2+m_tol), (mark2_n2-m_tol, mark2_n2+m_tol)]\n",
    "print(bounds)\n",
    "\n",
    "opt, error = optimal_window(newG, node_name1, node_name2, bounds)\n",
    "\n",
    "print(f\"Optimal windows: {opt}\")\n",
    "print(f\"Minimum mse: {error}\")\n",
    "\n",
    "\n"
   ]
  },
  {
   "cell_type": "code",
   "execution_count": null,
   "metadata": {},
   "outputs": [],
   "source": [
    "from calc_functions import windows_test\n",
    "windows_test(newG, node_name1, node_name2, opt, show_plots=True)"
   ]
  }
 ],
 "metadata": {
  "kernelspec": {
   "display_name": "base",
   "language": "python",
   "name": "python3"
  },
  "language_info": {
   "codemirror_mode": {
    "name": "ipython",
    "version": 3
   },
   "file_extension": ".py",
   "mimetype": "text/x-python",
   "name": "python",
   "nbconvert_exporter": "python",
   "pygments_lexer": "ipython3",
   "version": "3.11.3"
  }
 },
 "nbformat": 4,
 "nbformat_minor": 2
}
