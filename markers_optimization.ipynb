{
 "cells": [
  {
   "cell_type": "markdown",
   "metadata": {},
   "source": [
    "The goal of this notebook is to explore how markers can be used to guide the algorithm finding the optimal window within a marker range. This is also useful for looking at marker ranges across an entire graph"
   ]
  },
  {
   "cell_type": "code",
   "execution_count": 25,
   "metadata": {},
   "outputs": [],
   "source": [
    "import numpy as np\n",
    "import pandas as pd\n",
    "from graph_setup import G\n",
    "from marker_functions import mkr_calc_window\n",
    "from calc_functions import windows_test\n",
    "from marker_functions import create_subs\n",
    "import matplotlib.pyplot as plt\n",
    "import networkx as nx"
   ]
  },
  {
   "cell_type": "code",
   "execution_count": 15,
   "metadata": {},
   "outputs": [
    {
     "name": "stdout",
     "output_type": "stream",
     "text": [
      "Calculating windows for marker range 0 - K\n",
      "100%|██████████| 50/50 [00:18<00:00,  2.66trial/s, best loss: 1.4624999999999773]\n",
      "Optimal windows: [874.0, 1078.5, 870.5, 1070.5]\n",
      "Minimum error: 1.4624999999999773\n",
      "Calculating windows for marker range K - L2\n",
      "100%|██████████| 50/50 [00:21<00:00,  2.34trial/s, best loss: 1.2930555555555605]\n",
      "Optimal windows: [1077.5, 1290.5, 1077.5, 1290.5]\n",
      "Minimum error: 1.2930555555555605\n",
      "Calculating windows for marker range L2 - inf\n",
      "100%|██████████| 50/50 [01:12<00:00,  1.46s/trial, best loss: 71.14159090909092]\n",
      "Optimal windows: [1294.0, 1985.5, 1290.5, 1617.5]\n",
      "Minimum error: 71.14159090909092\n",
      "      Label           Range PVH-937           Range PVH-941   Opt Win PVH-937  \\\n",
      "0     0 - K          (0, 1075.1807)          (0, 1073.5878)   (874.0, 1078.5)   \n",
      "1    K - L2  (1075.1807, 1290.3693)  (1073.5878, 1290.3293)  (1077.5, 1290.5)   \n",
      "2  L2 - inf        (1290.3693, inf)        (1290.3293, inf)  (1294.0, 1985.5)   \n",
      "\n",
      "    Opt Win PVH-941      Error  \n",
      "0   (870.5, 1070.5)     1.4625  \n",
      "1  (1077.5, 1290.5)   1.293056  \n",
      "2  (1290.5, 1617.5)  71.141591  \n"
     ]
    }
   ],
   "source": [
    "marker_ranges = mkr_calc_window(G, \"PVH-937\", \"PVH-941\")\n",
    "print(marker_ranges)"
   ]
  },
  {
   "cell_type": "code",
   "execution_count": 24,
   "metadata": {},
   "outputs": [
    {
     "name": "stdout",
     "output_type": "stream",
     "text": [
      "             Label                 PVH-1007                 PVH-937  \\\n",
      "0            0 - C          (0, 1011.38385)           (0, 969.7597)   \n",
      "1            C - K  (1011.38385, 1116.2677)   (969.7597, 1075.1807)   \n",
      "2           K - L2   (1116.2677, 1333.9681)  (1075.1807, 1290.3693)   \n",
      "3         L2 - inf         (1333.9681, inf)                     NaN   \n",
      "4   L2 - Top-MEC-C                      NaN  (1290.3693, 1706.3507)   \n",
      "5  Top-MEC-C - inf                      NaN        (1706.3507, inf)   \n",
      "6            0 - K                      NaN                     NaN   \n",
      "\n",
      "                  PVH-941                PVH-1108                PVH-1318  \\\n",
      "0                     NaN          (0, 1008.8733)          (0, 1007.1922)   \n",
      "1                     NaN  (1008.8733, 1113.1971)  (1007.1922, 1111.3737)   \n",
      "2  (1073.5878, 1290.3293)  (1113.1971, 1324.5449)  (1111.3737, 1327.1564)   \n",
      "3        (1290.3293, inf)                     NaN                     NaN   \n",
      "4                     NaN  (1324.5449, 1770.0234)  (1327.1564, 1755.3252)   \n",
      "5                     NaN        (1770.0234, inf)        (1755.3252, inf)   \n",
      "6          (0, 1073.5878)                     NaN                     NaN   \n",
      "\n",
      "                 PVH-1499  \n",
      "0           (0, 996.4254)  \n",
      "1   (996.4254, 1103.7643)  \n",
      "2  (1103.7643, 1308.7382)  \n",
      "3                     NaN  \n",
      "4  (1308.7382, 1747.1263)  \n",
      "5        (1747.1263, inf)  \n",
      "6                     NaN  \n"
     ]
    }
   ],
   "source": [
    "all_graph_markers = pd.DataFrame()\n",
    "\n",
    "for node in G.nodes:\n",
    "    mk = G.nodes[node][\"markers\"]\n",
    "    graph_markers = pd.DataFrame(columns=[\"Label\", node])\n",
    "     \n",
    "\n",
    "\n",
    "    labels = []\n",
    "    prev_marker = \"0\"\n",
    "    for marker in mk[\"Mkr\"]:\n",
    "        labels.append(f\"{prev_marker} - {marker}\")\n",
    "        prev_marker = marker\n",
    "    labels.append(f\"{prev_marker} - inf\")\n",
    "\n",
    "    graph_markers[\"Label\"] = labels\n",
    "\n",
    "    sub = create_subs(mk[\"Depth\"].tolist())\n",
    "    graph_markers[node] = sub\n",
    "\n",
    "\n",
    "    if all_graph_markers.empty:\n",
    "        all_graph_markers = graph_markers\n",
    "    else:\n",
    "        all_graph_markers = pd.merge(all_graph_markers, graph_markers, on=\"Label\", how=\"outer\")\n",
    "\n",
    "print(all_graph_markers)\n",
    "    "
   ]
  },
  {
   "cell_type": "code",
   "execution_count": 32,
   "metadata": {},
   "outputs": [
    {
     "name": "stdout",
     "output_type": "stream",
     "text": [
      "Graph for label 0 - C:\n",
      "['PVH-1007', 'PVH-937', 'PVH-1108', 'PVH-1318', 'PVH-1499']\n",
      "Graph for label C - K:\n",
      "['PVH-1007', 'PVH-937', 'PVH-1108', 'PVH-1318', 'PVH-1499']\n",
      "Graph for label K - L2:\n",
      "['PVH-1007', 'PVH-937', 'PVH-941', 'PVH-1108', 'PVH-1318', 'PVH-1499']\n",
      "Graph for label L2 - inf:\n",
      "['PVH-1007', 'PVH-941']\n",
      "Graph for label L2 - Top-MEC-C:\n",
      "['PVH-937', 'PVH-1108', 'PVH-1318', 'PVH-1499']\n",
      "Graph for label Top-MEC-C - inf:\n",
      "['PVH-937', 'PVH-1108', 'PVH-1318', 'PVH-1499']\n",
      "Graph for label 0 - K:\n",
      "['PVH-941']\n"
     ]
    }
   ],
   "source": [
    "marker_graphs = {}\n",
    "for _, row in all_graph_markers.iterrows():\n",
    "    label = row[\"Label\"]\n",
    "    tempG = nx.Graph()\n",
    "    \n",
    "    # Add nodes and edges to the graph for the current row\n",
    "    for node in G.nodes:\n",
    "        if node in row.index and pd.notna(row[node]):\n",
    "            tempG.add_node(node, **G.nodes[node])\n",
    "            tempG.nodes[node][\"data\"] = G.nodes[node][\"data\"]\n",
    "            tempG.nodes[node][\"known_tops\"] = G.nodes[node][\"known_tops\"]\n",
    "            tempG.nodes[node][\"pos\"] = G.nodes[node][\"pos\"]\n",
    "\n",
    "    marker_graphs[label] = tempG\n",
    "\n",
    "# Example of how to access a specific marker graph\n",
    "for label, graph in marker_graphs.items():\n",
    "    print(f\"Graph for label {label}:\")\n",
    "    print(graph.nodes)\n",
    "\n",
    "\n"
   ]
  },
  {
   "cell_type": "code",
   "execution_count": null,
   "metadata": {},
   "outputs": [],
   "source": []
  }
 ],
 "metadata": {
  "kernelspec": {
   "display_name": "base",
   "language": "python",
   "name": "python3"
  },
  "language_info": {
   "codemirror_mode": {
    "name": "ipython",
    "version": 3
   },
   "file_extension": ".py",
   "mimetype": "text/x-python",
   "name": "python",
   "nbconvert_exporter": "python",
   "pygments_lexer": "ipython3",
   "version": "3.11.3"
  }
 },
 "nbformat": 4,
 "nbformat_minor": 2
}
